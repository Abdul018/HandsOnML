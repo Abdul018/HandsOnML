{
 "cells": [
  {
   "cell_type": "markdown",
   "id": "8c902ebb-166a-4020-8007-a8ead4e55e30",
   "metadata": {},
   "source": [
    "# Chapter 1: The Machine Learning Landscape\n",
    ">>"
   ]
  },
  {
   "cell_type": "markdown",
   "id": "125168d9-7f41-48eb-9234-fa3bbc83023b",
   "metadata": {
    "jp-MarkdownHeadingCollapsed": true
   },
   "source": [
    "## How would you define Machine Learning?\n",
    "> ### Machine Learning is about building systems that can learn from data. Learning means getting better at some task, given some performance measure.."
   ]
  },
  {
   "cell_type": "markdown",
   "id": "285bc234-b279-4427-b8e4-2e9bcd13cdf6",
   "metadata": {
    "jp-MarkdownHeadingCollapsed": true
   },
   "source": [
    "## Can you name four types of problems where it shines?\n",
    "> ### Machine Learning is great for complex problems for which we have no algorithmic \n",
    "solution, to replace long lists of hand-tuned rules, to buil  systems that adap \r\n",
    "to fluctuating environments, and finally to help humans learn (e.g., data mining)"
   ]
  },
  {
   "cell_type": "markdown",
   "id": "3d590bd4-a04d-4e21-9a57-8fb1c579258d",
   "metadata": {},
   "source": [
    "## What is a labeled training set?\n",
    "> ### A labeled training set is a training set that contains the desired solution (a.k.a. a label) for each instance..g)"
   ]
  },
  {
   "cell_type": "markdown",
   "id": "cedf35bf-ba03-47e2-b44a-215e1f9b86c9",
   "metadata": {},
   "source": [
    "## What are the two most common supervised tasks?\n",
    "> ### The two most common supervised tasks are regression and classification."
   ]
  },
  {
   "cell_type": "markdown",
   "id": "b9e3d4e8-f0f9-441f-8505-28774f47e978",
   "metadata": {},
   "source": [
    "## Can you name four common unsupervised tasks?\n",
    "> ### Common unsupervised tasks include clustering, visualization, dimensionality \n",
    "reduction, and association rule learning."
   ]
  },
  {
   "cell_type": "markdown",
   "id": "e642ee35-05a6-4a6a-ad2f-8784ca77fad7",
   "metadata": {},
   "source": [
    "## What type of Machine Learning algorithm would you use to allow a robot to \n",
    "walk in various unknown terrains?\n",
    "> ### Reinforcement Learning is likely to perform best if we want a robot to learn to \n",
    "walk in various unknown terrains, since this is typically the type of problem tha \r\n",
    "Reinforcement Learning tackles. It might be possible to express the problem as a\r\n",
    "supervised or semisupervised learning problem, but it would be less natural."
   ]
  },
  {
   "cell_type": "markdown",
   "id": "1922644b-5094-4c03-b326-4240d9819d15",
   "metadata": {},
   "source": [
    "## What type of algorithm would you use to segment your customers into multiple \n",
    "groups?\n",
    "> ### If you don’t know how to define the groups, then you can use a clustering algorith \r\n",
    "(unsupervised learning) to segment your customers into clusters of simil r\r\n",
    "customers. However, if you know what groups you would like to have, then y can fee  many examples of each group to a classification algorithm (supervise \r\n",
    "learning), and it will classify all your customers into these groups.ou"
   ]
  },
  {
   "cell_type": "markdown",
   "id": "b04c91a9-eeba-4f95-b1f2-15c426a8ac83",
   "metadata": {},
   "source": [
    "## Would you frame the problem of spam detection as a supervised learning problem \n",
    "or an unsupervised learning problem?\n",
    "> ### Spam detection is a typical supervised learning problem: the algorithm is fed \n",
    "many emails along with their labels (spam or not spam)."
   ]
  },
  {
   "cell_type": "markdown",
   "id": "3a996daf-b6be-4c78-96a2-93a5c7230ace",
   "metadata": {},
   "source": [
    "## What is an online learning system?\n",
    "> ### An online learning system can learn incrementally, as opposed to a batch learning \n",
    "system. This makes it capable of adapting rapidly to both changing data an \r\n",
    "autonomous systems, and of training on very large quantities of data."
   ]
  },
  {
   "cell_type": "markdown",
   "id": "3f278bd0-fc97-4fea-a8b1-c33e3bd7cbe9",
   "metadata": {},
   "source": [
    "## What is out-of-core learning?\n",
    "> ### Out-of-core algorithms can handle vast quantities of data that cannot fit in a \n",
    "computer’s main memory. An out-of-core learning algorithm chops the data int \r\n",
    "mini-batches and uses online learning techniques to learn from these minibatches."
   ]
  },
  {
   "cell_type": "markdown",
   "id": "c160be39-2039-4d89-9ded-92fbadfea4fa",
   "metadata": {},
   "source": [
    "## What type of learning algorithm relies on a similarity measure to make predictions?\n",
    "> ### An instance-based learning system learns the training data by heart; then, when \n",
    "given a new instance, it uses a similarity measure to find the most similar learne \r\n",
    "instances and uses them to make predictions."
   ]
  },
  {
   "cell_type": "markdown",
   "id": "607b8ca5-48db-452e-a9f8-bcce2174581a",
   "metadata": {},
   "source": [
    "## What is the difference between a model parameter and a learning algorithm’s \n",
    "hyperparameter?\n",
    "> ### A model has one or more model parameters that determine what it will predict \n",
    "given a new instance (e.g., the slope of a linear model). A learning algorithm trie \r\n",
    "to find optimal values for these parameters such that the model generalizes we l\r\n",
    "to new instances. A hyperparameter is a parameter of the learning algori hm\r\n",
    "itself, not of the model (e.g., the amount of regularization to apply)."
   ]
  },
  {
   "cell_type": "markdown",
   "id": "cf311442-1552-45db-ab6c-ef4515a83662",
   "metadata": {},
   "source": [
    "## What do model-based learning algorithms search for? What is the most common \n",
    "strategy they use to succeed? How do they make predictions?\n",
    "> ### Model-based learning algorithms search for an optimal value for the model \n",
    "parameters such that the model will generalize well to new instances. We usuall \r\n",
    "train such systems by minimizing a cost function that measures how bad the syst m\r\n",
    "is at making predictions on the training data, plus a penalty for model complex ty\r\n",
    "if the model is regularized. To make predictions, we feed the new\r\n",
    "instance’s features into the model’s prediction function, using the parameter v lues\r\n",
    "found by the learning algorithm."
   ]
  },
  {
   "cell_type": "markdown",
   "id": "82fd0d37-4e89-43c2-865c-7e1500408599",
   "metadata": {},
   "source": [
    "## Can you name four of the main challenges in Machine Learning?\n",
    "> ### Some of the main challenges in Machine Learning are the lack of data, poor data \n",
    "quality, nonrepresentative data, uninformative features, excessively simple model \r\n",
    "that underfit the training data, and excessively complex models that overf t\r\n",
    "the data."
   ]
  },
  {
   "cell_type": "markdown",
   "id": "62a04320-4bfb-42db-8de4-b6f89515e035",
   "metadata": {},
   "source": [
    "## If your model performs great on the training data but generalizes poorly to new \n",
    "instances, what is happening? Can you name three possible solutions?\n",
    "> ### If a model performs great on the training data but generalizes poorly to ne \r\n",
    "instances, the model is likely overfitting the training data (or we got extreme y\r\n",
    "lucky on the training data). Possible solutions to overfitting are getting m re\r\n",
    "data, simplifying the model (selecting a simpler algorithm, reducing the nu ber\r\n",
    "of parameters or features used, or regularizing the model), or reducing the  oise\r\n",
    "in the training data."
   ]
  },
  {
   "cell_type": "markdown",
   "id": "80696c28-5e0e-4dee-b2cd-a3423fd98434",
   "metadata": {},
   "source": [
    "## What is a test set, and why would you want to use it?\n",
    "> ### A test set is used to estimate the generalization error that a model will make on \n",
    "new instances, before the model is launched in production."
   ]
  },
  {
   "cell_type": "markdown",
   "id": "bfb87e6f-b102-4867-8547-82a0792b5dac",
   "metadata": {},
   "source": [
    "## What is the purpose of a validation set?\n",
    "> ### A validation set is used to compare models. It makes it possible to select the best \n",
    "model and tune the hyperparameters."
   ]
  },
  {
   "cell_type": "markdown",
   "id": "3be5a660-259b-4f17-b0ef-912c17ed4879",
   "metadata": {},
   "source": [
    "## What is the train-dev set, when do you need it, and how do you use it?\n",
    "> ### The train-dev set is used when there is a risk of mismatch between the training \n",
    "data and the data used in the validation and test datasets (which should always b \r\n",
    "as close as possible to the data used once the model is in production). The traind v\r\n",
    "set is a part of the training set that’s held out (the model is not trained on i ).\r\n",
    "The model is trained on the rest of the training set, and evaluated on both the\r\n",
    "train-dev set and the validation set. If the model performs well on the trainin  set\r\n",
    "but not on the train-dev set, then the model is likely overfitting the training s t. If\r\n",
    "it performs well on both the training set and the train-dev set, but not on the val dation\r\n",
    "set, then there is probably a significant data mismatch between the  raining\r\n",
    "data and the validation + test data, and you should try to im rove the\r\n",
    "training data to make it look more like the validation + test data."
   ]
  },
  {
   "cell_type": "markdown",
   "id": "cb05df0d-520a-4c61-aa76-317f1dfa5a52",
   "metadata": {},
   "source": [
    "## What can go wrong if you tune hyperparameters using the test set?\n",
    "> ### If you tune hyperparameters using the test set, you risk overfitting the test set, \n",
    "and the generalization error you measure will be optimistic (you may launch  \r\n",
    "model that performs worse than you expect)."
   ]
  }
 ],
 "metadata": {
  "kernelspec": {
   "display_name": "Python 3 (ipykernel)",
   "language": "python",
   "name": "python3"
  },
  "language_info": {
   "codemirror_mode": {
    "name": "ipython",
    "version": 3
   },
   "file_extension": ".py",
   "mimetype": "text/x-python",
   "name": "python",
   "nbconvert_exporter": "python",
   "pygments_lexer": "ipython3",
   "version": "3.9.12"
  }
 },
 "nbformat": 4,
 "nbformat_minor": 5
}
